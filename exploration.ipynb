{
 "cells": [
  {
   "cell_type": "code",
   "execution_count": null,
   "metadata": {},
   "outputs": [],
   "source": [
    "import os\n",
    "import subprocess\n",
    "import pandas as pd\n",
    "\n",
    "os.makedirs('exploration', exist_ok=True)\n",
    "\n",
    "malware_df = pd.read_csv('data/DikeDataset/labels/malware.csv')\n",
    "malware_df['benign_or_malware'] = 'malware'\n",
    "\n",
    "benign_df = pd.read_csv('data/DikeDataset/labels/benign.csv')\n",
    "benign_df['benign_or_malware'] = 'benign'\n",
    "benign_df = benign_df.astype(malware_df.dtypes.to_dict())\n",
    "\n",
    "benign_df.dtypes\n",
    "\n",
    "labels = pd.concat([benign_df, malware_df]).reset_index(drop=True)"
   ]
  },
  {
   "cell_type": "code",
   "execution_count": null,
   "metadata": {},
   "outputs": [],
   "source": [
    "filepath = f'data/DikeDataset/files/{labels.iat[0, 12]}/{labels.iat[0, 1]}.exe'\n",
    "\n",
    "subprocess.run(['python', 'main.py', '-o', f'{labels.iat[0, 1]}.png', filepath])"
   ]
  },
  {
   "cell_type": "code",
   "execution_count": null,
   "metadata": {},
   "outputs": [],
   "source": [
    "with open('data/DikeDataset/files/benign/2a922ebe7edb08480baa1721ce1b5185fb5af7f64ec0f128d6a7a37711784815.exe')"
   ]
  }
 ],
 "metadata": {
  "kernelspec": {
   "display_name": "Python 3",
   "language": "python",
   "name": "python3"
  },
  "language_info": {
   "codemirror_mode": {
    "name": "ipython",
    "version": 3
   },
   "file_extension": ".py",
   "mimetype": "text/x-python",
   "name": "python",
   "nbconvert_exporter": "python",
   "pygments_lexer": "ipython3",
   "version": "3.9.6"
  }
 },
 "nbformat": 4,
 "nbformat_minor": 2
}

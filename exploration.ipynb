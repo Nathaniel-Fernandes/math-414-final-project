{
 "cells": [
  {
   "cell_type": "code",
   "execution_count": 2,
   "metadata": {},
   "outputs": [],
   "source": [
    "import os\n",
    "import subprocess\n",
    "import pandas as pd\n",
    "import shutil\n",
    "import matplotlib.pyplot as plt\n",
    "\n",
    "os.makedirs('exploration/benign', exist_ok=True)\n",
    "os.makedirs('exploration/malicious', exist_ok=True)\n",
    "\n",
    "malware_df = pd.read_csv('data/DikeDataset/labels/malware.csv')\n",
    "malware_df['benign_or_malware'] = 'malware'\n",
    "\n",
    "benign_df = pd.read_csv('data/DikeDataset/labels/benign.csv')\n",
    "benign_df['benign_or_malware'] = 'benign'\n",
    "benign_df = benign_df.astype(malware_df.dtypes.to_dict())\n",
    "\n",
    "benign_df.dtypes\n",
    "\n",
    "labels = pd.concat([benign_df, malware_df]).reset_index(drop=True)"
   ]
  },
  {
   "cell_type": "code",
   "execution_count": 86,
   "metadata": {},
   "outputs": [],
   "source": [
    "# for name in labels.loc[benign_df.shape[0]:benign_df.shape[0]*2]['hash']:\n",
    "#     shutil.copyfile(f'data/DikeDataset/files/malware/{name}.exe', f'deepreflect/data/malicious_unpacked/malware/{name}.exe')\n",
    "    "
   ]
  },
  {
   "cell_type": "code",
   "execution_count": 87,
   "metadata": {},
   "outputs": [],
   "source": [
    "# # ensure that there's an equal number of benign & malicious examples\n",
    "# for i in range(benign_df.shape[0], benign_df.shape[0]*2):\n",
    "#     prefix = 'data/DikeDataset/files/'\n",
    "#     filepath = f'{labels.iat[i, 12]}/{labels.iat[i, 1]}'\n",
    "#     postfix = '.exe'\n",
    "\n",
    "#     subprocess.run(['python', 'main.py', '-o', f'exploration/{filepath}', prefix + filepath + postfix])"
   ]
  },
  {
   "cell_type": "code",
   "execution_count": 3,
   "metadata": {},
   "outputs": [],
   "source": [
    "import pandas as pd\n",
    "import seaborn as sns\n",
    "\n",
    "# df = pd.read_csv('runs/malwaredetection_2024-04-30 11:01:59.292519.txt')\n",
    "\n",
    "from sklearn.metrics import confusion_matrix, ConfusionMatrixDisplay\n",
    "\n",
    "# cm = confusion_matrix(df['truth'].tolist(), df['pred'].tolist(), labels=['benign', 'malware'])\n",
    "# disp = ConfusionMatrixDisplay(confusion_matrix=cm, display_labels=['benign', 'malware'])\n",
    "# disp.plot()\n",
    "# plt.title('Confusion Matrix for \"malware-dection\"')\n",
    "# # sns.heatmap(cm, fmt='d', annot=True, square=True,\n",
    "#             cmap='gray_r', vmin=0, vmax=0,  # set all to white\n",
    "#             linewidths=0.5, linecolor='k',  # draw black grid lines\n",
    "#             cbar=False)                     # disable colorbar\n",
    "\n",
    "# # re-enable outer spines\n",
    "# sns.despine(left=False, right=False, top=False, bottom=False)"
   ]
  },
  {
   "cell_type": "code",
   "execution_count": 4,
   "metadata": {},
   "outputs": [],
   "source": [
    "from sklearn.metrics import confusion_matrix, ConfusionMatrixDisplay\n",
    "from sklearn import metrics\n",
    "import matplotlib.pyplot as plt\n",
    "import numpy as np\n",
    "from classifier import label_2_encoding\n",
    "\n",
    "def my_confusion_matrix(df):\n",
    "    ''' assumes df has columns \"true\", \"pred\" that are both str of either {'malware', 'benign'} + \"raw_pred\" which is the raw output of selection '''\n",
    "\n",
    "    true = df['true'].tolist()\n",
    "    pred = df['pred'].tolist()\n",
    "    cm = confusion_matrix(true, pred, labels=['malware', 'benign'])\n",
    "    disp = ConfusionMatrixDisplay(confusion_matrix=cm, display_labels=['malware', 'benign'])\n",
    "    \n",
    "    return cm, disp\n",
    "\n",
    "def my_metrics(df):\n",
    "    ''' assumes df has columns \"true\", \"pred\" that are both str of either {'malware', 'benign'} + \"raw_pred\" which is the raw output of selection '''\n",
    "    \n",
    "    true = df['true'].tolist()\n",
    "    pred = df['pred'].tolist()\n",
    "    \n",
    "    accuracy = metrics.accuracy_score(true, pred)\n",
    "    f1_score = metrics.f1_score(true, pred, pos_label='malware')\n",
    "    \n",
    "    tp, fn, fp, tn = my_confusion_matrix(df)[0].ravel()\n",
    "    fnr = fn / (tp + fn)\n",
    "    \n",
    "    sensitivity = tp / (tp + fn)\n",
    "    specificity = tn / (tn + fp)\n",
    "    \n",
    "    return accuracy, f1_score, fnr, sensitivity, specificity\n",
    "    \n",
    "def my_auc_roc(df):\n",
    "    ''' assumes df has columns \"true\", \"pred\" that are both str of either {'malware', 'benign'} + \"raw_pred\" which is the raw output of selection '''\n",
    "    \n",
    "    true = [label_2_encoding[e] for e in df['true'].tolist()]\n",
    "    pred = df['pred'].tolist()\n",
    "    pred_raw = df['raw_pred'].tolist()\n",
    "    \n",
    "    fpr, tpr, thresholds = metrics.roc_curve(true, pred_raw, pos_label=label_2_encoding['malware'])\n",
    "    roc_auc = metrics.auc(fpr, tpr)\n",
    "    return metrics.roc_auc_score(true, pred_raw), metrics.RocCurveDisplay(fpr=fpr, tpr=tpr, roc_auc=roc_auc)\n",
    " \n",
    "\n",
    "df_results = pd.DataFrame({ 'accuracy': [], 'f1_score': [], 'fnr': [], 'auroc_score': [], 'sensitivity': [], 'specificity': [], 'type': [] })\n",
    "\n",
    "for csv in os.listdir('runs'):\n",
    "    df = pd.read_csv(f'runs/{csv}', index_col=0)\n",
    "\n",
    "    cm, cm_plot = my_confusion_matrix(df)\n",
    "    accuracy, f1_score, fnr, sensitivity, specificity = my_metrics(df)\n",
    "    auroc_score, roc_plot = my_auc_roc(df)\n",
    "    \n",
    "    df_results.loc[len(df_results)] = [accuracy, f1_score, fnr, sensitivity, specificity, auroc_score, 'gnb' if 'gnb' in csv else 'malware-dection']"
   ]
  },
  {
   "cell_type": "code",
   "execution_count": 11,
   "metadata": {},
   "outputs": [
    {
     "data": {
      "text/plain": [
       "Text(0, 0.5, 'True Label')"
      ]
     },
     "execution_count": 11,
     "metadata": {},
     "output_type": "execute_result"
    },
    {
     "data": {
      "image/png": "[encoded data removed]",
      "text/plain": [
       "<Figure size 640x480 with 2 Axes>"
      ]
     },
     "metadata": {},
     "output_type": "display_data"
    }
   ],
   "source": [
    "df = pd.read_csv('runs/malwaredetection_2024-05-01 01:17:32.408009.csv')\n",
    "fig = my_confusion_matrix(df)[1]\n",
    "fig.plot(cmap=\"Blues\")\n",
    "plt.title('\"malware-dection\" Confusion Matrix')\n",
    "plt.xlabel(\"Predicted Label\")\n",
    "plt.ylabel(\"True Label\")"
   ]
  },
  {
   "cell_type": "code",
   "execution_count": 22,
   "metadata": {},
   "outputs": [
    {
     "data": {
      "text/plain": [
       "0.9282945736434108"
      ]
     },
     "execution_count": 22,
     "metadata": {},
     "output_type": "execute_result"
    },
    {
     "data": {
      "image/png": "[encoded data removed]",
      "text/plain": [
       "<Figure size 640x480 with 2 Axes>"
      ]
     },
     "metadata": {},
     "output_type": "display_data"
    }
   ],
   "source": [
    "# df = pd.read_csv('runs/gnb_2024-05-01 00:46:06.077325.csv')\n",
    "# df = pd.read_csv('runs/gnb_2024-05-01 00:53:01.762134.csv')\n",
    "# df = pd.read_csv('runs/gnb_2024-05-01 00:56:58.859603.csv')\n",
    "# df = pd.read_csv('runs/gnb_2024-05-01 01:00:54.570778.csv')\n",
    "df = pd.read_csv('runs/gnb_2024-05-01 01:10:33.704503.csv')\n",
    "fig = my_confusion_matrix(df)[1]\n",
    "fig.plot(cmap=\"Blues\")\n",
    "plt.title('\"GNB\" Confusion Matrix')\n",
    "plt.xlabel(\"Predicted Label\")\n",
    "plt.ylabel(\"True Label\")\n",
    "my_metrics(df)[0]"
   ]
  },
  {
   "cell_type": "code",
   "execution_count": 12,
   "metadata": {},
   "outputs": [
    {
     "data": {
      "text/html": [
       "<div>\n",
       "<style scoped>\n",
       "    .dataframe tbody tr th:only-of-type {\n",
       "        vertical-align: middle;\n",
       "    }\n",
       "\n",
       "    .dataframe tbody tr th {\n",
       "        vertical-align: top;\n",
       "    }\n",
       "\n",
       "    .dataframe thead th {\n",
       "        text-align: right;\n",
       "    }\n",
       "</style>\n",
       "<table border=\"1\" class=\"dataframe\">\n",
       "  <thead>\n",
       "    <tr style=\"text-align: right;\">\n",
       "      <th></th>\n",
       "      <th>accuracy</th>\n",
       "      <th>f1_score</th>\n",
       "      <th>fnr</th>\n",
       "      <th>auroc_score</th>\n",
       "      <th>sensitivity</th>\n",
       "      <th>specificity</th>\n",
       "      <th>type</th>\n",
       "    </tr>\n",
       "  </thead>\n",
       "  <tbody>\n",
       "    <tr>\n",
       "      <th>0</th>\n",
       "      <td>0.889535</td>\n",
       "      <td>0.899824</td>\n",
       "      <td>0.062271</td>\n",
       "      <td>0.937729</td>\n",
       "      <td>0.835391</td>\n",
       "      <td>0.965556</td>\n",
       "      <td>gnb</td>\n",
       "    </tr>\n",
       "    <tr>\n",
       "      <th>1</th>\n",
       "      <td>0.924419</td>\n",
       "      <td>0.925996</td>\n",
       "      <td>0.106227</td>\n",
       "      <td>0.893773</td>\n",
       "      <td>0.958848</td>\n",
       "      <td>0.968540</td>\n",
       "      <td>gnb</td>\n",
       "    </tr>\n",
       "    <tr>\n",
       "      <th>2</th>\n",
       "      <td>0.928295</td>\n",
       "      <td>0.929524</td>\n",
       "      <td>0.106227</td>\n",
       "      <td>0.893773</td>\n",
       "      <td>0.967078</td>\n",
       "      <td>0.976801</td>\n",
       "      <td>gnb</td>\n",
       "    </tr>\n",
       "    <tr>\n",
       "      <th>3</th>\n",
       "      <td>0.877907</td>\n",
       "      <td>0.872211</td>\n",
       "      <td>0.212454</td>\n",
       "      <td>0.787546</td>\n",
       "      <td>0.979424</td>\n",
       "      <td>0.972113</td>\n",
       "      <td>gnb</td>\n",
       "    </tr>\n",
       "    <tr>\n",
       "      <th>4</th>\n",
       "      <td>0.926357</td>\n",
       "      <td>0.926641</td>\n",
       "      <td>0.120879</td>\n",
       "      <td>0.879121</td>\n",
       "      <td>0.979424</td>\n",
       "      <td>0.976424</td>\n",
       "      <td>gnb</td>\n",
       "    </tr>\n",
       "    <tr>\n",
       "      <th>5</th>\n",
       "      <td>0.583170</td>\n",
       "      <td>0.718626</td>\n",
       "      <td>0.003663</td>\n",
       "      <td>0.996337</td>\n",
       "      <td>0.109244</td>\n",
       "      <td>0.674770</td>\n",
       "      <td>malware-dection</td>\n",
       "    </tr>\n",
       "  </tbody>\n",
       "</table>\n",
       "</div>"
      ],
      "text/plain": [
       "   accuracy  f1_score       fnr  auroc_score  sensitivity  specificity  \\\n",
       "0  0.889535  0.899824  0.062271     0.937729     0.835391     0.965556   \n",
       "1  0.924419  0.925996  0.106227     0.893773     0.958848     0.968540   \n",
       "2  0.928295  0.929524  0.106227     0.893773     0.967078     0.976801   \n",
       "3  0.877907  0.872211  0.212454     0.787546     0.979424     0.972113   \n",
       "4  0.926357  0.926641  0.120879     0.879121     0.979424     0.976424   \n",
       "5  0.583170  0.718626  0.003663     0.996337     0.109244     0.674770   \n",
       "\n",
       "              type  \n",
       "0              gnb  \n",
       "1              gnb  \n",
       "2              gnb  \n",
       "3              gnb  \n",
       "4              gnb  \n",
       "5  malware-dection  "
      ]
     },
     "execution_count": 12,
     "metadata": {},
     "output_type": "execute_result"
    }
   ],
   "source": [
    "df_results\n",
    "# df_results.groupby('type').agg(['mean', 'sem'])"
   ]
  }
 ],
 "metadata": {
  "kernelspec": {
   "display_name": "Python 3",
   "language": "python",
   "name": "python3"
  },
  "language_info": {
   "codemirror_mode": {
    "name": "ipython",
    "version": 3
   },
   "file_extension": ".py",
   "mimetype": "text/x-python",
   "name": "python",
   "nbconvert_exporter": "python",
   "pygments_lexer": "ipython3",
   "version": "3.7.9"
  }
 },
 "nbformat": 4,
 "nbformat_minor": 2
}
